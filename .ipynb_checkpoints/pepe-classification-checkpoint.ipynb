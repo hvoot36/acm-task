{
 "cells": [
  {
   "cell_type": "markdown",
   "id": "81350cdc-471d-42c3-98c3-750b18ca8ecb",
   "metadata": {},
   "source": [
    "# Pepe Image Classification Using Machine Learning And Deep Learning Models \n",
    "\n",
    "> The objective of this notebook is to train a machine learning model and a deep learning model to perform the task of identifying the images of pepe frog. This notebook will also compare the training process and the results of the trained models."
   ]
  },
  {
   "cell_type": "code",
   "execution_count": null,
   "id": "4827898f-fcbc-43fc-a70a-466d85b93054",
   "metadata": {},
   "outputs": [],
   "source": []
  }
 ],
 "metadata": {
  "kernelspec": {
   "display_name": "Python 3 (ipykernel)",
   "language": "python",
   "name": "python3"
  },
  "language_info": {
   "codemirror_mode": {
    "name": "ipython",
    "version": 3
   },
   "file_extension": ".py",
   "mimetype": "text/x-python",
   "name": "python",
   "nbconvert_exporter": "python",
   "pygments_lexer": "ipython3",
   "version": "3.12.2"
  }
 },
 "nbformat": 4,
 "nbformat_minor": 5
}
