{
 "cells": [
  {
   "cell_type": "markdown",
   "id": "81350cdc-471d-42c3-98c3-750b18ca8ecb",
   "metadata": {},
   "source": [
    "# Pepe Image Classification Using Machine Learning\n",
    "\n",
    "The objective of this notebook is to train a machine learning model and a deep learning model to perform the task of identifying the images of pepe frog."
   ]
  },
  {
   "cell_type": "markdown",
   "id": "41ffa1ab-da35-4614-9515-52fcb25e8ae4",
   "metadata": {},
   "source": [
    "## Data\n",
    "\n",
    "The data used to train the models in this notebook is present in hugging face. \n",
    "Link :- https://huggingface.co/datasets/vikhyatk/synthetic-pepe\n",
    "\n",
    "**Note :-** Since the given data only has images of pepe frog, for training and scoring purposes an image classification dataset of pokemon images has been added to the given data.\n",
    "\n",
    "Pokemon Dataset Link :- https://www.kaggle.com/datasets/vishalsubbiah/pokemon-images-and-types"
   ]
  },
  {
   "cell_type": "markdown",
   "id": "b85633ce-e973-4dc5-af23-70fada809bfd",
   "metadata": {},
   "source": [
    "## 1. Importing Libraries"
   ]
  },
  {
   "cell_type": "code",
   "execution_count": 1,
   "id": "c046cfda-e6bd-4c0f-847c-b42af60180e7",
   "metadata": {},
   "outputs": [
    {
     "name": "stderr",
     "output_type": "stream",
     "text": [
      "2024-03-26 01:42:27.780392: I tensorflow/core/util/port.cc:113] oneDNN custom operations are on. You may see slightly different numerical results due to floating-point round-off errors from different computation orders. To turn them off, set the environment variable `TF_ENABLE_ONEDNN_OPTS=0`.\n",
      "2024-03-26 01:42:27.780735: I external/local_tsl/tsl/cuda/cudart_stub.cc:32] Could not find cuda drivers on your machine, GPU will not be used.\n",
      "2024-03-26 01:42:27.785564: I external/local_tsl/tsl/cuda/cudart_stub.cc:32] Could not find cuda drivers on your machine, GPU will not be used.\n",
      "2024-03-26 01:42:27.846576: I tensorflow/core/platform/cpu_feature_guard.cc:210] This TensorFlow binary is optimized to use available CPU instructions in performance-critical operations.\n",
      "To enable the following instructions: AVX2 AVX512F AVX512_VNNI FMA, in other operations, rebuild TensorFlow with the appropriate compiler flags.\n",
      "2024-03-26 01:42:28.864789: W tensorflow/compiler/tf2tensorrt/utils/py_utils.cc:38] TF-TRT Warning: Could not find TensorRT\n"
     ]
    }
   ],
   "source": [
    "import re\n",
    "import numpy as np\n",
    "import pandas as pd\n",
    "import matplotlib.pyplot as plt\n",
    "import seaborn as sns\n",
    "import tensorflow as tf;\n",
    "\n",
    "%matplotlib inline\n",
    "\n",
    "from sklearn.model_selection import train_test_split, cross_val_score\n",
    "from sklearn.model_selection import RandomizedSearchCV\n",
    "from sklearn.metrics import confusion_matrix, ConfusionMatrixDisplay\n",
    "from sklearn.metrics import classification_report\n",
    "\n",
    "from sklearn.neighbors import KNeighborsClassifier"
   ]
  },
  {
   "cell_type": "markdown",
   "id": "1e65712e-65d1-4532-acee-7a9348eaf86e",
   "metadata": {},
   "source": [
    "### Importing The Datasets"
   ]
  },
  {
   "cell_type": "code",
   "execution_count": 2,
   "id": "cd74e7f2-9ec8-4249-94ea-3a1465c8a5a7",
   "metadata": {},
   "outputs": [
    {
     "data": {
      "text/plain": [
       "(504, 809)"
      ]
     },
     "execution_count": 2,
     "metadata": {},
     "output_type": "execute_result"
    }
   ],
   "source": [
    "pepeFileNames = pd.read_csv(\"./data/labels.csv\")\n",
    "pokemonFileNames = pd.read_csv(\"./data/pokemonLabels.csv\")\n",
    "\n",
    "pepeFileNames.size, pokemonFileNames.size"
   ]
  },
  {
   "cell_type": "code",
   "execution_count": 3,
   "id": "313ccb1c-3168-4bfa-aa70-b31740edcf45",
   "metadata": {},
   "outputs": [
    {
     "data": {
      "text/plain": [
       "['./data/pepe-images/0e4a1d55-261e-4bed-b0db-7c4a66811011.jpeg',\n",
       " './data/pepe-images/d9b28405-90ca-4c5e-bc5a-e1df6c2f1b38.jpeg',\n",
       " './data/pepe-images/ea0335cb-5bee-4b9d-b9e2-b25afb0c7777.jpeg',\n",
       " './data/pepe-images/5cb1251a-080b-4806-a966-4df424c178d0.jpeg',\n",
       " './data/pepe-images/22da751a-08da-4aea-b936-7badce43e5dc.jpeg',\n",
       " './data/pepe-images/bd9a7404-ef6f-4aa5-aede-e43bb268bbaa.jpeg',\n",
       " './data/pepe-images/06d07053-f659-4133-a751-b68272758320.jpeg',\n",
       " './data/pepe-images/18c72163-8e0d-461e-95e8-fae1918249ad.jpeg',\n",
       " './data/pepe-images/F8jo1Qba8AAYMYt.jpeg',\n",
       " './data/pepe-images/d6e9fb51-869e-4cf9-a379-587b11f1c2b6.jpeg']"
      ]
     },
     "execution_count": 3,
     "metadata": {},
     "output_type": "execute_result"
    }
   ],
   "source": [
    "filepaths = [\"./data/pepe-images/\" + label for label in pepeFileNames[\"File Name\"]]\n",
    "filepaths += [\"./data/pokemon-images/\" + label for label in pokemonFileNames[\"File Name\"]]\n",
    "filepaths[:10]"
   ]
  },
  {
   "cell_type": "code",
   "execution_count": 4,
   "id": "92299fc4-aa8d-465b-8b52-1987224ebe03",
   "metadata": {},
   "outputs": [
    {
     "data": {
      "text/plain": [
       "(1313, 1004)"
      ]
     },
     "execution_count": 4,
     "metadata": {},
     "output_type": "execute_result"
    }
   ],
   "source": [
    "# verifying the total number of images\n",
    "len(filepaths), 504 + 500"
   ]
  },
  {
   "cell_type": "markdown",
   "id": "f9a39e07-a430-4b51-a6db-8cfcfd346edc",
   "metadata": {},
   "source": [
    "## 2. Image Preprocessing and Getting The Data Ready For Training"
   ]
  },
  {
   "cell_type": "markdown",
   "id": "d85ba07f-0a19-4fd9-82d2-c6ffbc4aa19f",
   "metadata": {},
   "source": [
    "This step includes the following processes:-\n",
    "* assigning a target classification variable to each image path to identify if the given image is a pepe frog or not.\n",
    "* preprocessing the image (converting the jpeg files into numpy arrays which can be used to train the data)\n",
    "* splitting the available data into training validation and test data."
   ]
  },
  {
   "cell_type": "markdown",
   "id": "66ecc1f1-150d-4c92-978a-18e1785d8697",
   "metadata": {},
   "source": [
    "Using the methods of `tensorflow` and `tensorflow.image`, let's define a function which takes the file path as an input argument and processes the image by resizing it and returns a tensor."
   ]
  },
  {
   "cell_type": "markdown",
   "id": "e29151b3-b309-419a-a782-b09329f4c3b9",
   "metadata": {},
   "source": [
    "### Creating a Target Column"
   ]
  },
  {
   "cell_type": "code",
   "execution_count": 5,
   "id": "db4d1c68-a9e1-4bf9-9606-dfa29670bc98",
   "metadata": {},
   "outputs": [],
   "source": [
    "df = pd.DataFrame(filepaths, columns=[\"File Path\"])\n",
    "df = df.assign(target = [1 if \"pepe-images\" in path else 0 for path in df[\"File Path\"]]) \n",
    "# this statement assigns 1 to the target column of all filepaths which contain the pepe-images folder"
   ]
  },
  {
   "cell_type": "code",
   "execution_count": 6,
   "id": "c9f5cd7a-afc4-4b1f-9aee-7f29d9e8c098",
   "metadata": {},
   "outputs": [
    {
     "data": {
      "text/plain": [
       "target\n",
       "0    809\n",
       "1    504\n",
       "Name: count, dtype: int64"
      ]
     },
     "execution_count": 6,
     "metadata": {},
     "output_type": "execute_result"
    }
   ],
   "source": [
    "df.target.value_counts()"
   ]
  },
  {
   "cell_type": "code",
   "execution_count": 7,
   "id": "3d10f727-7d00-4754-9b47-7ab4b20deebf",
   "metadata": {},
   "outputs": [
    {
     "name": "stdout",
     "output_type": "stream",
     "text": [
      "                                              File Path  target\n",
      "0     ./data/pepe-images/0e4a1d55-261e-4bed-b0db-7c4...       1\n",
      "1     ./data/pepe-images/d9b28405-90ca-4c5e-bc5a-e1d...       1\n",
      "2     ./data/pepe-images/ea0335cb-5bee-4b9d-b9e2-b25...       1\n",
      "3     ./data/pepe-images/5cb1251a-080b-4806-a966-4df...       1\n",
      "4     ./data/pepe-images/22da751a-08da-4aea-b936-7ba...       1\n",
      "...                                                 ...     ...\n",
      "1308                ./data/pokemon-images/spritzee.jpeg       0\n",
      "1309                 ./data/pokemon-images/roselia.jpeg       0\n",
      "1310               ./data/pokemon-images/serperior.jpeg       0\n",
      "1311                ./data/pokemon-images/venusaur.jpeg       0\n",
      "1312                 ./data/pokemon-images/florges.jpeg       0\n",
      "\n",
      "[1313 rows x 2 columns]\n"
     ]
    }
   ],
   "source": [
    "print(df)"
   ]
  },
  {
   "cell_type": "code",
   "execution_count": 8,
   "id": "6cda069f-bc41-42a2-93c8-02e571f4585f",
   "metadata": {},
   "outputs": [],
   "source": [
    "# saving the dataset as a csv file for future use.\n",
    "df.to_csv(\"./data/dataset.csv\", index=False)"
   ]
  },
  {
   "cell_type": "markdown",
   "id": "04050f55-b0dc-4bd2-a626-ddd8631853e2",
   "metadata": {},
   "source": [
    "### Image Preprocessing Function"
   ]
  },
  {
   "cell_type": "code",
   "execution_count": 9,
   "id": "77a41adb-7fc2-44a0-9a7c-ef011bc32702",
   "metadata": {},
   "outputs": [],
   "source": [
    "IMG_SIZE = 200\n",
    "\n",
    "def processImage(imagePath):\n",
    "    \"\"\"\n",
    "    Converts the image in imagePath into its respective numpy array.\n",
    "    \"\"\"\n",
    "\n",
    "    image = tf.io.read_file(imagePath)\n",
    "    image = tf.image.decode_jpeg(image, channels=3) # converts into tensor with three channels (RGB)\n",
    "    image = tf.image.convert_image_dtype(image, tf.float32) # normalizing to 0-1 values\n",
    "    image = tf.image.resize(image, size=[IMG_SIZE, IMG_SIZE])\n",
    "    image = image.numpy() # converts the tensor into a 3d numpy array\n",
    "    return np.reshape(image, -1) # converts the 3d array into a 1d array in order to directly pass the 1d array into the model."
   ]
  },
  {
   "cell_type": "code",
   "execution_count": 10,
   "id": "889cecde-c1ff-46c6-89ae-fc4396498c30",
   "metadata": {},
   "outputs": [
    {
     "name": "stderr",
     "output_type": "stream",
     "text": [
      "2024-03-26 01:42:29.743643: E external/local_xla/xla/stream_executor/cuda/cuda_driver.cc:282] failed call to cuInit: CUDA_ERROR_UNKNOWN: unknown error\n",
      "2024-03-26 01:42:29.743675: I external/local_xla/xla/stream_executor/cuda/cuda_diagnostics.cc:134] retrieving CUDA diagnostic information for host: hvootukuri-Inspiron-5509\n",
      "2024-03-26 01:42:29.743682: I external/local_xla/xla/stream_executor/cuda/cuda_diagnostics.cc:141] hostname: hvootukuri-Inspiron-5509\n",
      "2024-03-26 01:42:29.743851: I external/local_xla/xla/stream_executor/cuda/cuda_diagnostics.cc:165] libcuda reported version is: 535.161.7\n",
      "2024-03-26 01:42:29.743871: I external/local_xla/xla/stream_executor/cuda/cuda_diagnostics.cc:169] kernel reported version is: 535.161.7\n",
      "2024-03-26 01:42:29.743876: I external/local_xla/xla/stream_executor/cuda/cuda_diagnostics.cc:248] kernel version seems to match DSO: 535.161.7\n"
     ]
    },
    {
     "data": {
      "text/plain": [
       "array([0.28387925, 0.21029648, 0.14387922, ..., 0.4987451 , 0.39031056,\n",
       "       0.23691289], dtype=float32)"
      ]
     },
     "execution_count": 10,
     "metadata": {},
     "output_type": "execute_result"
    }
   ],
   "source": [
    "#testing the preprocessing function\n",
    "processImage(df[\"File Path\"][0])"
   ]
  },
  {
   "cell_type": "markdown",
   "id": "5e73737f-2601-44de-818a-7af72190d60d",
   "metadata": {},
   "source": [
    "### Splitting The Data into Train and Test Splits"
   ]
  },
  {
   "cell_type": "code",
   "execution_count": 11,
   "id": "63acc63a-81cd-4d90-836e-89cf39d3bdb2",
   "metadata": {},
   "outputs": [],
   "source": [
    "X_filePaths = df.drop(\"target\", axis=1)"
   ]
  },
  {
   "cell_type": "code",
   "execution_count": 12,
   "id": "e1385863-2635-4ece-bdda-a827d03f21ed",
   "metadata": {},
   "outputs": [],
   "source": [
    "for i in range(len(X_filePaths)):\n",
    "    X_filePaths.loc[i, \"File Path\"] = processImage(X_filePaths.loc[i, \"File Path\"])\n",
    "\n",
    "X_fileData = X_filePaths.rename(columns={\"File Path\" : \"File Data\"})"
   ]
  },
  {
   "cell_type": "code",
   "execution_count": 13,
   "id": "163f0a44-7d0f-4202-af8a-ddf9f0fdc445",
   "metadata": {},
   "outputs": [
    {
     "data": {
      "text/html": [
       "<div>\n",
       "<style scoped>\n",
       "    .dataframe tbody tr th:only-of-type {\n",
       "        vertical-align: middle;\n",
       "    }\n",
       "\n",
       "    .dataframe tbody tr th {\n",
       "        vertical-align: top;\n",
       "    }\n",
       "\n",
       "    .dataframe thead th {\n",
       "        text-align: right;\n",
       "    }\n",
       "</style>\n",
       "<table border=\"1\" class=\"dataframe\">\n",
       "  <thead>\n",
       "    <tr style=\"text-align: right;\">\n",
       "      <th></th>\n",
       "      <th>File Data</th>\n",
       "    </tr>\n",
       "  </thead>\n",
       "  <tbody>\n",
       "    <tr>\n",
       "      <th>0</th>\n",
       "      <td>[0.28387925, 0.21029648, 0.14387922, 0.2500031...</td>\n",
       "    </tr>\n",
       "    <tr>\n",
       "      <th>1</th>\n",
       "      <td>[0.3961271, 0.42676553, 0.43847376, 0.05503212...</td>\n",
       "    </tr>\n",
       "    <tr>\n",
       "      <th>2</th>\n",
       "      <td>[0.18804237, 0.02283765, 0.030431377, 0.221189...</td>\n",
       "    </tr>\n",
       "    <tr>\n",
       "      <th>3</th>\n",
       "      <td>[0.7585036, 0.47453964, 0.68835765, 0.80371463...</td>\n",
       "    </tr>\n",
       "    <tr>\n",
       "      <th>4</th>\n",
       "      <td>[0.0438149, 0.13837491, 0.31070274, 0.04665412...</td>\n",
       "    </tr>\n",
       "    <tr>\n",
       "      <th>...</th>\n",
       "      <td>...</td>\n",
       "    </tr>\n",
       "    <tr>\n",
       "      <th>1308</th>\n",
       "      <td>[0.0, 0.0, 0.0, 0.0, 0.0, 0.0, 0.0, 0.0, 0.0, ...</td>\n",
       "    </tr>\n",
       "    <tr>\n",
       "      <th>1309</th>\n",
       "      <td>[0.0, 0.0, 0.0, 0.0, 0.0, 0.0, 0.0, 0.0, 0.0, ...</td>\n",
       "    </tr>\n",
       "    <tr>\n",
       "      <th>1310</th>\n",
       "      <td>[0.0, 0.0, 0.0, 0.0, 0.0, 0.0, 0.0, 0.0, 0.0, ...</td>\n",
       "    </tr>\n",
       "    <tr>\n",
       "      <th>1311</th>\n",
       "      <td>[0.0, 0.0, 0.0, 0.0, 0.0, 0.0, 0.0, 0.0, 0.0, ...</td>\n",
       "    </tr>\n",
       "    <tr>\n",
       "      <th>1312</th>\n",
       "      <td>[0.0, 0.0, 0.0, 0.0, 0.0, 0.0, 0.0, 0.0, 0.0, ...</td>\n",
       "    </tr>\n",
       "  </tbody>\n",
       "</table>\n",
       "<p>1313 rows × 1 columns</p>\n",
       "</div>"
      ],
      "text/plain": [
       "                                              File Data\n",
       "0     [0.28387925, 0.21029648, 0.14387922, 0.2500031...\n",
       "1     [0.3961271, 0.42676553, 0.43847376, 0.05503212...\n",
       "2     [0.18804237, 0.02283765, 0.030431377, 0.221189...\n",
       "3     [0.7585036, 0.47453964, 0.68835765, 0.80371463...\n",
       "4     [0.0438149, 0.13837491, 0.31070274, 0.04665412...\n",
       "...                                                 ...\n",
       "1308  [0.0, 0.0, 0.0, 0.0, 0.0, 0.0, 0.0, 0.0, 0.0, ...\n",
       "1309  [0.0, 0.0, 0.0, 0.0, 0.0, 0.0, 0.0, 0.0, 0.0, ...\n",
       "1310  [0.0, 0.0, 0.0, 0.0, 0.0, 0.0, 0.0, 0.0, 0.0, ...\n",
       "1311  [0.0, 0.0, 0.0, 0.0, 0.0, 0.0, 0.0, 0.0, 0.0, ...\n",
       "1312  [0.0, 0.0, 0.0, 0.0, 0.0, 0.0, 0.0, 0.0, 0.0, ...\n",
       "\n",
       "[1313 rows x 1 columns]"
      ]
     },
     "execution_count": 13,
     "metadata": {},
     "output_type": "execute_result"
    }
   ],
   "source": [
    "X_fileData"
   ]
  },
  {
   "cell_type": "markdown",
   "id": "aa6663e9-523d-4951-9768-cb6744d93cf1",
   "metadata": {},
   "source": [
    "Since each row of the dataframe representing the data of an image is in the form of an array,\n",
    "le us convert each array into a row in a new dataframe in order to use that data for training and testing the model."
   ]
  },
  {
   "cell_type": "code",
   "execution_count": 14,
   "id": "616b160b-4792-4673-8c4c-b6d752e9ab65",
   "metadata": {},
   "outputs": [
    {
     "data": {
      "text/html": [
       "<div>\n",
       "<style scoped>\n",
       "    .dataframe tbody tr th:only-of-type {\n",
       "        vertical-align: middle;\n",
       "    }\n",
       "\n",
       "    .dataframe tbody tr th {\n",
       "        vertical-align: top;\n",
       "    }\n",
       "\n",
       "    .dataframe thead th {\n",
       "        text-align: right;\n",
       "    }\n",
       "</style>\n",
       "<table border=\"1\" class=\"dataframe\">\n",
       "  <thead>\n",
       "    <tr style=\"text-align: right;\">\n",
       "      <th></th>\n",
       "      <th>0</th>\n",
       "      <th>1</th>\n",
       "      <th>2</th>\n",
       "      <th>3</th>\n",
       "      <th>4</th>\n",
       "      <th>5</th>\n",
       "      <th>6</th>\n",
       "      <th>7</th>\n",
       "      <th>8</th>\n",
       "      <th>9</th>\n",
       "      <th>...</th>\n",
       "      <th>119990</th>\n",
       "      <th>119991</th>\n",
       "      <th>119992</th>\n",
       "      <th>119993</th>\n",
       "      <th>119994</th>\n",
       "      <th>119995</th>\n",
       "      <th>119996</th>\n",
       "      <th>119997</th>\n",
       "      <th>119998</th>\n",
       "      <th>119999</th>\n",
       "    </tr>\n",
       "  </thead>\n",
       "  <tbody>\n",
       "    <tr>\n",
       "      <th>0</th>\n",
       "      <td>0.283879</td>\n",
       "      <td>0.210296</td>\n",
       "      <td>0.143879</td>\n",
       "      <td>0.250003</td>\n",
       "      <td>0.172670</td>\n",
       "      <td>0.111343</td>\n",
       "      <td>0.329945</td>\n",
       "      <td>0.229075</td>\n",
       "      <td>0.161161</td>\n",
       "      <td>0.233566</td>\n",
       "      <td>...</td>\n",
       "      <td>0.413863</td>\n",
       "      <td>0.177632</td>\n",
       "      <td>0.095671</td>\n",
       "      <td>0.000000</td>\n",
       "      <td>0.491294</td>\n",
       "      <td>0.397490</td>\n",
       "      <td>0.240627</td>\n",
       "      <td>0.498745</td>\n",
       "      <td>0.390311</td>\n",
       "      <td>0.236913</td>\n",
       "    </tr>\n",
       "    <tr>\n",
       "      <th>0</th>\n",
       "      <td>0.396127</td>\n",
       "      <td>0.426766</td>\n",
       "      <td>0.438474</td>\n",
       "      <td>0.055032</td>\n",
       "      <td>0.039812</td>\n",
       "      <td>0.031167</td>\n",
       "      <td>0.644714</td>\n",
       "      <td>0.551992</td>\n",
       "      <td>0.558612</td>\n",
       "      <td>0.651518</td>\n",
       "      <td>...</td>\n",
       "      <td>0.341706</td>\n",
       "      <td>0.318207</td>\n",
       "      <td>0.131331</td>\n",
       "      <td>0.148344</td>\n",
       "      <td>0.411817</td>\n",
       "      <td>0.114332</td>\n",
       "      <td>0.077584</td>\n",
       "      <td>0.022560</td>\n",
       "      <td>0.007594</td>\n",
       "      <td>0.003465</td>\n",
       "    </tr>\n",
       "    <tr>\n",
       "      <th>0</th>\n",
       "      <td>0.188042</td>\n",
       "      <td>0.022838</td>\n",
       "      <td>0.030431</td>\n",
       "      <td>0.221189</td>\n",
       "      <td>0.026510</td>\n",
       "      <td>0.033931</td>\n",
       "      <td>0.249671</td>\n",
       "      <td>0.048165</td>\n",
       "      <td>0.034376</td>\n",
       "      <td>0.378814</td>\n",
       "      <td>...</td>\n",
       "      <td>0.540395</td>\n",
       "      <td>0.331421</td>\n",
       "      <td>0.221161</td>\n",
       "      <td>0.499963</td>\n",
       "      <td>0.142610</td>\n",
       "      <td>0.081778</td>\n",
       "      <td>0.240299</td>\n",
       "      <td>0.428177</td>\n",
       "      <td>0.417104</td>\n",
       "      <td>0.726452</td>\n",
       "    </tr>\n",
       "    <tr>\n",
       "      <th>0</th>\n",
       "      <td>0.758504</td>\n",
       "      <td>0.474540</td>\n",
       "      <td>0.688358</td>\n",
       "      <td>0.803715</td>\n",
       "      <td>0.554240</td>\n",
       "      <td>0.753017</td>\n",
       "      <td>0.949953</td>\n",
       "      <td>0.718667</td>\n",
       "      <td>0.874965</td>\n",
       "      <td>0.820977</td>\n",
       "      <td>...</td>\n",
       "      <td>0.489831</td>\n",
       "      <td>0.154731</td>\n",
       "      <td>0.068604</td>\n",
       "      <td>0.020450</td>\n",
       "      <td>0.946280</td>\n",
       "      <td>0.758276</td>\n",
       "      <td>0.876393</td>\n",
       "      <td>0.993341</td>\n",
       "      <td>0.907792</td>\n",
       "      <td>0.987102</td>\n",
       "    </tr>\n",
       "    <tr>\n",
       "      <th>0</th>\n",
       "      <td>0.043815</td>\n",
       "      <td>0.138375</td>\n",
       "      <td>0.310703</td>\n",
       "      <td>0.046654</td>\n",
       "      <td>0.117435</td>\n",
       "      <td>0.265514</td>\n",
       "      <td>0.088227</td>\n",
       "      <td>0.123522</td>\n",
       "      <td>0.250580</td>\n",
       "      <td>0.174469</td>\n",
       "      <td>...</td>\n",
       "      <td>0.109294</td>\n",
       "      <td>0.084416</td>\n",
       "      <td>0.089505</td>\n",
       "      <td>0.086455</td>\n",
       "      <td>0.135823</td>\n",
       "      <td>0.058459</td>\n",
       "      <td>0.090973</td>\n",
       "      <td>0.237459</td>\n",
       "      <td>0.117260</td>\n",
       "      <td>0.105745</td>\n",
       "    </tr>\n",
       "    <tr>\n",
       "      <th>...</th>\n",
       "      <td>...</td>\n",
       "      <td>...</td>\n",
       "      <td>...</td>\n",
       "      <td>...</td>\n",
       "      <td>...</td>\n",
       "      <td>...</td>\n",
       "      <td>...</td>\n",
       "      <td>...</td>\n",
       "      <td>...</td>\n",
       "      <td>...</td>\n",
       "      <td>...</td>\n",
       "      <td>...</td>\n",
       "      <td>...</td>\n",
       "      <td>...</td>\n",
       "      <td>...</td>\n",
       "      <td>...</td>\n",
       "      <td>...</td>\n",
       "      <td>...</td>\n",
       "      <td>...</td>\n",
       "      <td>...</td>\n",
       "      <td>...</td>\n",
       "    </tr>\n",
       "    <tr>\n",
       "      <th>0</th>\n",
       "      <td>0.000000</td>\n",
       "      <td>0.000000</td>\n",
       "      <td>0.000000</td>\n",
       "      <td>0.000000</td>\n",
       "      <td>0.000000</td>\n",
       "      <td>0.000000</td>\n",
       "      <td>0.000000</td>\n",
       "      <td>0.000000</td>\n",
       "      <td>0.000000</td>\n",
       "      <td>0.000000</td>\n",
       "      <td>...</td>\n",
       "      <td>0.000000</td>\n",
       "      <td>0.000000</td>\n",
       "      <td>0.000000</td>\n",
       "      <td>0.000000</td>\n",
       "      <td>0.000000</td>\n",
       "      <td>0.000000</td>\n",
       "      <td>0.000000</td>\n",
       "      <td>0.000000</td>\n",
       "      <td>0.000000</td>\n",
       "      <td>0.000000</td>\n",
       "    </tr>\n",
       "    <tr>\n",
       "      <th>0</th>\n",
       "      <td>0.000000</td>\n",
       "      <td>0.000000</td>\n",
       "      <td>0.000000</td>\n",
       "      <td>0.000000</td>\n",
       "      <td>0.000000</td>\n",
       "      <td>0.000000</td>\n",
       "      <td>0.000000</td>\n",
       "      <td>0.000000</td>\n",
       "      <td>0.000000</td>\n",
       "      <td>0.000000</td>\n",
       "      <td>...</td>\n",
       "      <td>0.000000</td>\n",
       "      <td>0.000000</td>\n",
       "      <td>0.000000</td>\n",
       "      <td>0.000000</td>\n",
       "      <td>0.000000</td>\n",
       "      <td>0.000000</td>\n",
       "      <td>0.000000</td>\n",
       "      <td>0.000000</td>\n",
       "      <td>0.000000</td>\n",
       "      <td>0.000000</td>\n",
       "    </tr>\n",
       "    <tr>\n",
       "      <th>0</th>\n",
       "      <td>0.000000</td>\n",
       "      <td>0.000000</td>\n",
       "      <td>0.000000</td>\n",
       "      <td>0.000000</td>\n",
       "      <td>0.000000</td>\n",
       "      <td>0.000000</td>\n",
       "      <td>0.000000</td>\n",
       "      <td>0.000000</td>\n",
       "      <td>0.000000</td>\n",
       "      <td>0.000000</td>\n",
       "      <td>...</td>\n",
       "      <td>0.000000</td>\n",
       "      <td>0.000000</td>\n",
       "      <td>0.000000</td>\n",
       "      <td>0.000000</td>\n",
       "      <td>0.000000</td>\n",
       "      <td>0.000000</td>\n",
       "      <td>0.000000</td>\n",
       "      <td>0.000000</td>\n",
       "      <td>0.000000</td>\n",
       "      <td>0.000000</td>\n",
       "    </tr>\n",
       "    <tr>\n",
       "      <th>0</th>\n",
       "      <td>0.000000</td>\n",
       "      <td>0.000000</td>\n",
       "      <td>0.000000</td>\n",
       "      <td>0.000000</td>\n",
       "      <td>0.000000</td>\n",
       "      <td>0.000000</td>\n",
       "      <td>0.000000</td>\n",
       "      <td>0.000000</td>\n",
       "      <td>0.000000</td>\n",
       "      <td>0.000000</td>\n",
       "      <td>...</td>\n",
       "      <td>0.000000</td>\n",
       "      <td>0.000000</td>\n",
       "      <td>0.000000</td>\n",
       "      <td>0.000000</td>\n",
       "      <td>0.000000</td>\n",
       "      <td>0.000000</td>\n",
       "      <td>0.000000</td>\n",
       "      <td>0.000000</td>\n",
       "      <td>0.000000</td>\n",
       "      <td>0.000000</td>\n",
       "    </tr>\n",
       "    <tr>\n",
       "      <th>0</th>\n",
       "      <td>0.000000</td>\n",
       "      <td>0.000000</td>\n",
       "      <td>0.000000</td>\n",
       "      <td>0.000000</td>\n",
       "      <td>0.000000</td>\n",
       "      <td>0.000000</td>\n",
       "      <td>0.000000</td>\n",
       "      <td>0.000000</td>\n",
       "      <td>0.000000</td>\n",
       "      <td>0.000000</td>\n",
       "      <td>...</td>\n",
       "      <td>0.000000</td>\n",
       "      <td>0.000000</td>\n",
       "      <td>0.000000</td>\n",
       "      <td>0.000000</td>\n",
       "      <td>0.000000</td>\n",
       "      <td>0.000000</td>\n",
       "      <td>0.000000</td>\n",
       "      <td>0.000000</td>\n",
       "      <td>0.000000</td>\n",
       "      <td>0.000000</td>\n",
       "    </tr>\n",
       "  </tbody>\n",
       "</table>\n",
       "<p>1313 rows × 120000 columns</p>\n",
       "</div>"
      ],
      "text/plain": [
       "      0         1         2         3         4         5         6       \\\n",
       "0   0.283879  0.210296  0.143879  0.250003  0.172670  0.111343  0.329945   \n",
       "0   0.396127  0.426766  0.438474  0.055032  0.039812  0.031167  0.644714   \n",
       "0   0.188042  0.022838  0.030431  0.221189  0.026510  0.033931  0.249671   \n",
       "0   0.758504  0.474540  0.688358  0.803715  0.554240  0.753017  0.949953   \n",
       "0   0.043815  0.138375  0.310703  0.046654  0.117435  0.265514  0.088227   \n",
       "..       ...       ...       ...       ...       ...       ...       ...   \n",
       "0   0.000000  0.000000  0.000000  0.000000  0.000000  0.000000  0.000000   \n",
       "0   0.000000  0.000000  0.000000  0.000000  0.000000  0.000000  0.000000   \n",
       "0   0.000000  0.000000  0.000000  0.000000  0.000000  0.000000  0.000000   \n",
       "0   0.000000  0.000000  0.000000  0.000000  0.000000  0.000000  0.000000   \n",
       "0   0.000000  0.000000  0.000000  0.000000  0.000000  0.000000  0.000000   \n",
       "\n",
       "      7         8         9       ...    119990    119991    119992    119993  \\\n",
       "0   0.229075  0.161161  0.233566  ...  0.413863  0.177632  0.095671  0.000000   \n",
       "0   0.551992  0.558612  0.651518  ...  0.341706  0.318207  0.131331  0.148344   \n",
       "0   0.048165  0.034376  0.378814  ...  0.540395  0.331421  0.221161  0.499963   \n",
       "0   0.718667  0.874965  0.820977  ...  0.489831  0.154731  0.068604  0.020450   \n",
       "0   0.123522  0.250580  0.174469  ...  0.109294  0.084416  0.089505  0.086455   \n",
       "..       ...       ...       ...  ...       ...       ...       ...       ...   \n",
       "0   0.000000  0.000000  0.000000  ...  0.000000  0.000000  0.000000  0.000000   \n",
       "0   0.000000  0.000000  0.000000  ...  0.000000  0.000000  0.000000  0.000000   \n",
       "0   0.000000  0.000000  0.000000  ...  0.000000  0.000000  0.000000  0.000000   \n",
       "0   0.000000  0.000000  0.000000  ...  0.000000  0.000000  0.000000  0.000000   \n",
       "0   0.000000  0.000000  0.000000  ...  0.000000  0.000000  0.000000  0.000000   \n",
       "\n",
       "      119994    119995    119996    119997    119998    119999  \n",
       "0   0.491294  0.397490  0.240627  0.498745  0.390311  0.236913  \n",
       "0   0.411817  0.114332  0.077584  0.022560  0.007594  0.003465  \n",
       "0   0.142610  0.081778  0.240299  0.428177  0.417104  0.726452  \n",
       "0   0.946280  0.758276  0.876393  0.993341  0.907792  0.987102  \n",
       "0   0.135823  0.058459  0.090973  0.237459  0.117260  0.105745  \n",
       "..       ...       ...       ...       ...       ...       ...  \n",
       "0   0.000000  0.000000  0.000000  0.000000  0.000000  0.000000  \n",
       "0   0.000000  0.000000  0.000000  0.000000  0.000000  0.000000  \n",
       "0   0.000000  0.000000  0.000000  0.000000  0.000000  0.000000  \n",
       "0   0.000000  0.000000  0.000000  0.000000  0.000000  0.000000  \n",
       "0   0.000000  0.000000  0.000000  0.000000  0.000000  0.000000  \n",
       "\n",
       "[1313 rows x 120000 columns]"
      ]
     },
     "execution_count": 14,
     "metadata": {},
     "output_type": "execute_result"
    }
   ],
   "source": [
    "X = pd.DataFrame(X_fileData.loc[0, \"File Data\"]).T\n",
    "\n",
    "for i in range(1,len(X_filePaths)):\n",
    "    X = pd.concat([X, pd.DataFrame(X_fileData.loc[i, \"File Data\"]).T])\n",
    "\n",
    "X"
   ]
  },
  {
   "cell_type": "markdown",
   "id": "a21c9ace-5195-41d2-ae2c-35c78f1080c9",
   "metadata": {},
   "source": [
    "now the data is ready to be used for training the machine learning model."
   ]
  },
  {
   "cell_type": "code",
   "execution_count": 15,
   "id": "eee94fe9-f271-4bbb-9479-dc96c0b4d500",
   "metadata": {},
   "outputs": [
    {
     "data": {
      "text/plain": [
       "0       1\n",
       "1       1\n",
       "2       1\n",
       "3       1\n",
       "4       1\n",
       "       ..\n",
       "1308    0\n",
       "1309    0\n",
       "1310    0\n",
       "1311    0\n",
       "1312    0\n",
       "Name: target, Length: 1313, dtype: int64"
      ]
     },
     "execution_count": 15,
     "metadata": {},
     "output_type": "execute_result"
    }
   ],
   "source": [
    "y = df[\"target\"]\n",
    "y"
   ]
  },
  {
   "cell_type": "code",
   "execution_count": 16,
   "id": "8561f495-db90-4c4f-8e0c-ed51d1c4244b",
   "metadata": {},
   "outputs": [],
   "source": [
    "X_train, X_test, y_train, y_test = train_test_split(X,y, test_size = 0.2)"
   ]
  },
  {
   "cell_type": "markdown",
   "id": "8c099cea-9803-4b9b-9323-f48d3711403b",
   "metadata": {},
   "source": [
    "## 3. Training The Model"
   ]
  },
  {
   "cell_type": "markdown",
   "id": "060e117a-cea1-484e-bb17-327baa985b1f",
   "metadata": {},
   "source": [
    "Let us use a dictionary to store the model which we are going to train as it is easier to add more models and call a user defined function `fitAndScore()` to train all the models present in  the dictionary and returns the accuracy scores of the models.\n",
    "\n",
    "This notebook uses the `KNeighborsClassifier` estimator in order to build the required model."
   ]
  },
  {
   "cell_type": "code",
   "execution_count": 17,
   "id": "6b25bb98-0d76-4363-9d8a-e55e673c8d38",
   "metadata": {},
   "outputs": [],
   "source": [
    "models = {\n",
    "    \"KNN\" : KNeighborsClassifier(),\n",
    "}\n",
    "\n",
    "def fitAndScore(models, X_train, X_test, y_train, y_test):\n",
    "    \"\"\"\n",
    "    Fits and evalueates given machine learning models.\n",
    "    models : a dict of different scikit-learn machine learning models\n",
    "    X_train : training data\n",
    "    X_test : testing data\n",
    "    y_train : labels associated with training data\n",
    "    y_test : labels associated with test data\n",
    "    \"\"\"\n",
    "    modelScores = {}\n",
    "    for name, model in models.items():\n",
    "        model.fit(X_train, y_train)\n",
    "        modelScores[name] = model.score(X_test, y_test)\n",
    "    return modelScores"
   ]
  },
  {
   "cell_type": "code",
   "execution_count": 18,
   "id": "c8af15e7-6f7f-4353-bd43-0e862f1dcc5d",
   "metadata": {},
   "outputs": [
    {
     "data": {
      "text/plain": [
       "{'KNN': 0.9809885931558935}"
      ]
     },
     "execution_count": 18,
     "metadata": {},
     "output_type": "execute_result"
    }
   ],
   "source": [
    "modelScores = fitAndScore(models=models,\n",
    "                          X_train=X_train,\n",
    "                          X_test=X_test,\n",
    "                          y_train=y_train,\n",
    "                          y_test=y_test)\n",
    "\n",
    "modelScores"
   ]
  },
  {
   "cell_type": "markdown",
   "id": "9829a68d-9db3-46de-8b7b-a4d7045aef7a",
   "metadata": {},
   "source": [
    "## 4. Hyperparameter Tuning\n",
    "\n",
    "\n",
    "Now that the model has been trained, let us try to improve our model by tuning the hyperparameters.\n",
    "\n",
    "This notebook will be using the `RandomizedSearchCV` function in order to find the best suitable hyperparameters which can be used for this specific dataset."
   ]
  },
  {
   "cell_type": "code",
   "execution_count": 19,
   "id": "49732af9-340e-4f61-a577-e83a1ea852b4",
   "metadata": {},
   "outputs": [
    {
     "data": {
      "text/plain": [
       "{'algorithm': 'auto',\n",
       " 'leaf_size': 30,\n",
       " 'metric': 'minkowski',\n",
       " 'metric_params': None,\n",
       " 'n_jobs': None,\n",
       " 'n_neighbors': 5,\n",
       " 'p': 2,\n",
       " 'weights': 'uniform'}"
      ]
     },
     "execution_count": 19,
     "metadata": {},
     "output_type": "execute_result"
    }
   ],
   "source": [
    "knn = KNeighborsClassifier()\n",
    "\n",
    "knn.get_params()"
   ]
  },
  {
   "cell_type": "code",
   "execution_count": 20,
   "id": "e01fe04f-5ccc-4536-9601-c10427917fa1",
   "metadata": {},
   "outputs": [],
   "source": [
    "knnGrid = {\"algorithm\": [\"ball_tree\", \"auto\", \"kd_tree\"],\n",
    "           \"n_neighbors\": [5,7,10,12],\n",
    "           \"p\": [1,2],\n",
    "           \"metric\": [\"minkowski\"]}"
   ]
  },
  {
   "cell_type": "code",
   "execution_count": 21,
   "id": "a3f2e25b-9a8f-4a2e-be0c-2dd897f4967b",
   "metadata": {},
   "outputs": [],
   "source": [
    "# rsKnn = RandomizedSearchCV(KNeighborsClassifier(),\n",
    "#                                 param_distributions=knnGrid,\n",
    "#                                 cv=5,\n",
    "#                                 n_iter=20,\n",
    "#                                 verbose=True)\n",
    "\n",
    "# rsKnn.fit(X_train, y_train)\n",
    "\n",
    "# rsKnn.best_params_"
   ]
  },
  {
   "cell_type": "code",
   "execution_count": 22,
   "id": "21e0405a-05be-4307-97a5-8f33ba42e97a",
   "metadata": {},
   "outputs": [],
   "source": [
    "# rsKnn.score(X_test, y_test)"
   ]
  },
  {
   "cell_type": "markdown",
   "id": "5edf9a57-0c5a-46ab-8d51-979e8fec4bb8",
   "metadata": {},
   "source": [
    "## 5. Evaluation\n",
    "\n",
    "now let us evaluate the performance of our model using scoring metrics such as `f1_score`, `precision_score`, `recall_score` and the Confusion Matrix"
   ]
  },
  {
   "cell_type": "code",
   "execution_count": 23,
   "id": "46967c50-727f-4f13-b3f2-abac32af1435",
   "metadata": {},
   "outputs": [
    {
     "data": {
      "text/plain": [
       "<sklearn.metrics._plot.confusion_matrix.ConfusionMatrixDisplay at 0x70bbd1124fe0>"
      ]
     },
     "execution_count": 23,
     "metadata": {},
     "output_type": "execute_result"
    },
    {
     "data": {
      "image/png": "[encoded data removed]",
      "text/plain": [
       "<Figure size 640x480 with 2 Axes>"
      ]
     },
     "metadata": {},
     "output_type": "display_data"
    }
   ],
   "source": [
    "model = KNeighborsClassifier()\n",
    "model.fit(X_train, y_train)\n",
    "predictions = model.predict(X_test)\n",
    "\n",
    "cm = confusion_matrix(y_test, predictions)\n",
    "display = ConfusionMatrixDisplay(confusion_matrix=cm)\n",
    "\n",
    "display.plot()"
   ]
  },
  {
   "cell_type": "markdown",
   "id": "0cb0cb93-49f0-400e-8c01-1ff6a8da4674",
   "metadata": {},
   "source": [
    "The Confusion Matrix Shows you the number of true negatives, false positives, false negatives and true positives respectively. The confusion matrix allows us to analyse which predictions the trained model is struggling with.\n",
    "\n",
    "Now, let us use the `classification_report` to look at all scoring metrics."
   ]
  },
  {
   "cell_type": "code",
   "execution_count": 24,
   "id": "25ac4147-b65d-445d-9885-d3ed34b05988",
   "metadata": {},
   "outputs": [
    {
     "name": "stdout",
     "output_type": "stream",
     "text": [
      "              precision    recall  f1-score   support\n",
      "\n",
      "           0       0.97      1.00      0.99       168\n",
      "           1       1.00      0.95      0.97        95\n",
      "\n",
      "    accuracy                           0.98       263\n",
      "   macro avg       0.99      0.97      0.98       263\n",
      "weighted avg       0.98      0.98      0.98       263\n",
      "\n"
     ]
    }
   ],
   "source": [
    "print(classification_report(y_test, predictions))"
   ]
  },
  {
   "cell_type": "code",
   "execution_count": null,
   "id": "e7459a96-8b32-425d-90a5-7c372788454f",
   "metadata": {},
   "outputs": [],
   "source": []
  }
 ],
 "metadata": {
  "kernelspec": {
   "display_name": "Python 3 (ipykernel)",
   "language": "python",
   "name": "python3"
  },
  "language_info": {
   "codemirror_mode": {
    "name": "ipython",
    "version": 3
   },
   "file_extension": ".py",
   "mimetype": "text/x-python",
   "name": "python",
   "nbconvert_exporter": "python",
   "pygments_lexer": "ipython3",
   "version": "3.12.2"
  }
 },
 "nbformat": 4,
 "nbformat_minor": 5
}
